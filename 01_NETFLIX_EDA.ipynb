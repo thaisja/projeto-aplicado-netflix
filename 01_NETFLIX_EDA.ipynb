{
  "nbformat": 4,
  "nbformat_minor": 0,
  "metadata": {
    "colab": {
      "provenance": [],
      "authorship_tag": "ABX9TyOL7njdDvZak1eBKAu8nWiv",
      "include_colab_link": true
    },
    "kernelspec": {
      "name": "python3",
      "display_name": "Python 3"
    },
    "language_info": {
      "name": "python"
    }
  },
  "cells": [
    {
      "cell_type": "markdown",
      "metadata": {
        "id": "view-in-github",
        "colab_type": "text"
      },
      "source": [
        "<a href=\"https://colab.research.google.com/github/thaisja/projeto-aplicado-netflix/blob/main/01_NETFLIX_EDA.ipynb\" target=\"_parent\"><img src=\"https://colab.research.google.com/assets/colab-badge.svg\" alt=\"Open In Colab\"/></a>"
      ]
    },
    {
      "cell_type": "code",
      "execution_count": 1,
      "metadata": {
        "id": "-fYQovhEsAZz",
        "colab": {
          "base_uri": "https://localhost:8080/"
        },
        "outputId": "2ea28fb8-6905-4b94-e9cc-98977e569f1d"
      },
      "outputs": [
        {
          "output_type": "stream",
          "name": "stdout",
          "text": [
            "\u001b[?25l   \u001b[90m━━━━━━━━━━━━━━━━━━━━━━━━━━━━━━━━━━━━━━━━\u001b[0m \u001b[32m0.0/1.8 MB\u001b[0m \u001b[31m?\u001b[0m eta \u001b[36m-:--:--\u001b[0m\r\u001b[2K   \u001b[91m━━\u001b[0m\u001b[90m╺\u001b[0m\u001b[90m━━━━━━━━━━━━━━━━━━━━━━━━━━━━━━━━━━━━━\u001b[0m \u001b[32m0.1/1.8 MB\u001b[0m \u001b[31m3.2 MB/s\u001b[0m eta \u001b[36m0:00:01\u001b[0m\r\u001b[2K   \u001b[91m━━━━━━━━\u001b[0m\u001b[91m╸\u001b[0m\u001b[90m━━━━━━━━━━━━━━━━━━━━━━━━━━━━━━━\u001b[0m \u001b[32m0.4/1.8 MB\u001b[0m \u001b[31m5.8 MB/s\u001b[0m eta \u001b[36m0:00:01\u001b[0m\r\u001b[2K   \u001b[91m━━━━━━━━━━━━━━━━━━━━━━━━━━━━\u001b[0m\u001b[91m╸\u001b[0m\u001b[90m━━━━━━━━━━━\u001b[0m \u001b[32m1.3/1.8 MB\u001b[0m \u001b[31m12.7 MB/s\u001b[0m eta \u001b[36m0:00:01\u001b[0m\r\u001b[2K   \u001b[90m━━━━━━━━━━━━━━━━━━━━━━━━━━━━━━━━━━━━━━━━\u001b[0m \u001b[32m1.8/1.8 MB\u001b[0m \u001b[31m13.9 MB/s\u001b[0m eta \u001b[36m0:00:00\u001b[0m\n",
            "\u001b[?25h"
          ]
        }
      ],
      "source": [
        "# %%\n",
        "!pip -q install pyarrow fastparquet tqdm\n",
        "\n",
        "import os, gc, math, random, sys, textwrap, numpy as np, pandas as pd\n",
        "import matplotlib.pyplot as plt\n",
        "import seaborn as sns\n",
        "from tqdm import tqdm\n",
        "\n",
        "pd.set_option(\"display.max_columns\", 50)\n",
        "pd.set_option(\"display.float_format\", lambda x: f\"{x:,.4f}\")\n",
        "sns.set()\n",
        "SEED = 42\n",
        "random.seed(SEED); np.random.seed(SEED)\n",
        "\n"
      ]
    },
    {
      "cell_type": "code",
      "source": [
        "from google.colab import drive\n",
        "drive.mount('/content/drive')\n",
        "\n",
        "# caminho da pasta no Drive\n",
        "DATA_DIR = \"/content/drive/MyDrive/MACKENZIE/4S Ciência de Dados\"\n",
        "\n",
        "# lista dos arquivos do Netflix Prize que você colocou lá\n",
        "FILES = [\n",
        "    f\"{DATA_DIR}/combined_data_1.txt\",\n",
        "    f\"{DATA_DIR}/combined_data_2.txt\",\n",
        "    f\"{DATA_DIR}/combined_data_3.txt\",\n",
        "    f\"{DATA_DIR}/combined_data_4.txt\"\n",
        "]\n",
        "\n",
        "# só para verificar se o Colab encontrou os arquivos\n",
        "import os\n",
        "for f in FILES:\n",
        "    print(f, \"->\", os.path.exists(f))\n",
        "\n"
      ],
      "metadata": {
        "id": "HVgQcnfXKUpw",
        "outputId": "f622b8f2-2f81-448c-cd44-bd59f16a4c07",
        "colab": {
          "base_uri": "https://localhost:8080/"
        }
      },
      "execution_count": 4,
      "outputs": [
        {
          "output_type": "stream",
          "name": "stdout",
          "text": [
            "Mounted at /content/drive\n",
            "/content/drive/MyDrive/MACKENZIE/4S Ciência de Dados/combined_data_1.txt -> True\n",
            "/content/drive/MyDrive/MACKENZIE/4S Ciência de Dados/combined_data_2.txt -> True\n",
            "/content/drive/MyDrive/MACKENZIE/4S Ciência de Dados/combined_data_3.txt -> True\n",
            "/content/drive/MyDrive/MACKENZIE/4S Ciência de Dados/combined_data_4.txt -> True\n"
          ]
        }
      ]
    },
    {
      "cell_type": "code",
      "source": [
        "!pip -q install pyarrow fastparquet tqdm\n",
        "\n",
        "import random, pandas as pd, numpy as np\n",
        "from tqdm import tqdm\n",
        "import gc\n",
        "\n",
        "SAMPLE_RATE = 0.002   # 0.2% da base total (ajuste conforme sua RAM/tempo)\n",
        "MAX_ROWS_PER_FILE = None   # ou um inteiro para limitar por arquivo (ex.: 500_000)\n",
        "SEED = 42\n",
        "random.seed(SEED)\n",
        "\n",
        "CACHE_PARQUET = \"/content/netflix_all_sample.parquet\"  # cache local do Colab\n",
        "CACHE_PARQUET_DRIVE = f\"{DATA_DIR}/netflix_all_sample.parquet\"  # opcional: salvar no Drive tb\n",
        "\n",
        "def iter_netflix_file(path, sample_rate=1.0, max_rows=None, seed=SEED):\n",
        "    rng = random.Random(seed)\n",
        "    movie_id = None\n",
        "    out = 0\n",
        "    with open(path, \"r\") as f:\n",
        "        for line in f:\n",
        "            line = line.strip()\n",
        "            if not line:\n",
        "                continue\n",
        "            if line.endswith(\":\"):\n",
        "                movie_id = int(line[:-1])\n",
        "                continue\n",
        "            # linha do tipo: user_id,rating,date\n",
        "            try:\n",
        "                user_id, rating, dt = line.split(\",\")\n",
        "                if max_rows is not None and out >= max_rows:\n",
        "                    break\n",
        "                if sample_rate < 1.0 and rng.random() > sample_rate:\n",
        "                    continue\n",
        "                yield (int(user_id), movie_id, float(rating), dt)\n",
        "                out += 1\n",
        "            except:\n",
        "                continue\n",
        "\n",
        "def load_all(files, sample_rate=SAMPLE_RATE, max_rows_per_file=MAX_ROWS_PER_FILE):\n",
        "    rows = []\n",
        "    for p in files:\n",
        "        print(\"Lendo:\", p)\n",
        "        for tup in tqdm(iter_netflix_file(p, sample_rate=sample_rate, max_rows=max_rows_per_file)):\n",
        "            rows.append(tup)\n",
        "    df = pd.DataFrame(rows, columns=[\"user_id\",\"movie_id\",\"rating\",\"date\"])\n",
        "    df[\"user_id\"]  = df[\"user_id\"].astype(\"int32\")\n",
        "    df[\"movie_id\"] = df[\"movie_id\"].astype(\"int32\")\n",
        "    df[\"rating\"]   = df[\"rating\"].astype(\"float32\")\n",
        "    df[\"date\"]     = pd.to_datetime(df[\"date\"], format=\"%Y-%m-%d\", errors=\"coerce\")\n",
        "    return df\n",
        "\n",
        "# Cache: tenta carregar, senão cria\n",
        "try:\n",
        "    import os\n",
        "    if os.path.exists(CACHE_PARQUET):\n",
        "        df = pd.read_parquet(CACHE_PARQUET)\n",
        "        print(\"Carregado do cache local:\", CACHE_PARQUET, df.shape)\n",
        "    elif os.path.exists(CACHE_PARQUET_DRIVE):\n",
        "        df = pd.read_parquet(CACHE_PARQUET_DRIVE)\n",
        "        print(\"Carregado do cache no Drive:\", CACHE_PARQUET_DRIVE, df.shape)\n",
        "    else:\n",
        "        df = load_all(FILES, sample_rate=SAMPLE_RATE, max_rows_per_file=MAX_ROWS_PER_FILE)\n",
        "        df.to_parquet(CACHE_PARQUET, index=False)\n",
        "        # opcional: persistir no Drive para reuso entre sessões\n",
        "        df.to_parquet(CACHE_PARQUET_DRIVE, index=False)\n",
        "        print(\"Amostra combinada salva em:\", CACHE_PARQUET, \"e\", CACHE_PARQUET_DRIVE, df.shape)\n",
        "except Exception as e:\n",
        "    print(\"Erro ao carregar/criar cache:\", e)\n",
        "\n",
        "df.head()\n"
      ],
      "metadata": {
        "id": "2AsFmZSJKcmC",
        "outputId": "2e1faf94-0922-4a7b-a8fb-ffda04d68351",
        "colab": {
          "base_uri": "https://localhost:8080/"
        }
      },
      "execution_count": null,
      "outputs": [
        {
          "output_type": "stream",
          "name": "stdout",
          "text": [
            "Lendo: /content/drive/MyDrive/MACKENZIE/4S Ciência de Dados/combined_data_1.txt\n"
          ]
        },
        {
          "output_type": "stream",
          "name": "stderr",
          "text": [
            "47911it [00:19, 2508.95it/s]\n"
          ]
        },
        {
          "output_type": "stream",
          "name": "stdout",
          "text": [
            "Lendo: /content/drive/MyDrive/MACKENZIE/4S Ciência de Dados/combined_data_2.txt\n"
          ]
        },
        {
          "output_type": "stream",
          "name": "stderr",
          "text": [
            "37911it [00:19, 2514.23it/s]"
          ]
        }
      ]
    }
  ]
}